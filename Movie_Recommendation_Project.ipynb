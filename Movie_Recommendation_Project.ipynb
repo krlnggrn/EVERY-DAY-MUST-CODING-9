{
  "nbformat": 4,
  "nbformat_minor": 0,
  "metadata": {
    "colab": {
      "name": "Movie Recommendation Project.ipynb",
      "provenance": [],
      "collapsed_sections": [],
      "authorship_tag": "ABX9TyNN4Qersl4t0VC5S0inkLVS",
      "include_colab_link": true
    },
    "kernelspec": {
      "name": "python3",
      "display_name": "Python 3"
    },
    "language_info": {
      "name": "python"
    }
  },
  "cells": [
    {
      "cell_type": "markdown",
      "metadata": {
        "id": "view-in-github",
        "colab_type": "text"
      },
      "source": [
        "<a href=\"https://colab.research.google.com/github/krlnggrn/EVERY-DAY-MUST-CODING-9/blob/main/Movie_Recommendation_Project.ipynb\" target=\"_parent\"><img src=\"https://colab.research.google.com/assets/colab-badge.svg\" alt=\"Open In Colab\"/></a>"
      ]
    },
    {
      "cell_type": "code",
      "execution_count": 2,
      "metadata": {
        "id": "WIqBp--kbjZ5"
      },
      "outputs": [],
      "source": [
        "#import library yang dibutuhkan\n",
        "import pandas as pd\n",
        "import numpy as np\n",
        "#lakukan pembacaan dataset\n",
        "movie_df = pd.read_csv('https://storage.googleapis.com/dqlab-dataset/title.basics.tsv', sep='\\t') #untuk menyimpan title_basics.tsv\n",
        "rating_df = pd.read_csv('https://storage.googleapis.com/dqlab-dataset/title.ratings.tsv', sep='\\t') #untuk menyimpan title.ratings.tsv"
      ]
    },
    {
      "cell_type": "code",
      "source": [
        "movie_df.head()"
      ],
      "metadata": {
        "colab": {
          "base_uri": "https://localhost:8080/",
          "height": 285
        },
        "id": "kRaaR5xGb4I5",
        "outputId": "727ad859-8c20-462b-8615-a96fcfe84d29"
      },
      "execution_count": 3,
      "outputs": [
        {
          "output_type": "execute_result",
          "data": {
            "text/plain": [
              "      tconst  titleType                                      primaryTitle  \\\n",
              "0  tt0221078      short                         Circle Dance, Ute Indians   \n",
              "1  tt8862466  tvEpisode  ¡El #TeamOsos va con todo al \"Reality del amor\"!   \n",
              "2  tt7157720  tvEpisode                                     Episode #3.41   \n",
              "3  tt2974998  tvEpisode                         Episode dated 16 May 1987   \n",
              "4  tt2903620  tvEpisode                  Frances Bavier: Aunt Bee Retires   \n",
              "\n",
              "                                      originalTitle  isAdult startYear  \\\n",
              "0                         Circle Dance, Ute Indians        0      1898   \n",
              "1  ¡El #TeamOsos va con todo al \"Reality del amor\"!        0      2018   \n",
              "2                                     Episode #3.41        0      2016   \n",
              "3                         Episode dated 16 May 1987        0      1987   \n",
              "4                  Frances Bavier: Aunt Bee Retires        0      1973   \n",
              "\n",
              "  endYear runtimeMinutes             genres  \n",
              "0      \\N             \\N  Documentary,Short  \n",
              "1      \\N             \\N       Comedy,Drama  \n",
              "2      \\N             29   Comedy,Game-Show  \n",
              "3      \\N             \\N               News  \n",
              "4      \\N             \\N        Documentary  "
            ],
            "text/html": [
              "\n",
              "  <div id=\"df-aaf6832e-ffbd-4ecd-b3f1-d422760d753d\">\n",
              "    <div class=\"colab-df-container\">\n",
              "      <div>\n",
              "<style scoped>\n",
              "    .dataframe tbody tr th:only-of-type {\n",
              "        vertical-align: middle;\n",
              "    }\n",
              "\n",
              "    .dataframe tbody tr th {\n",
              "        vertical-align: top;\n",
              "    }\n",
              "\n",
              "    .dataframe thead th {\n",
              "        text-align: right;\n",
              "    }\n",
              "</style>\n",
              "<table border=\"1\" class=\"dataframe\">\n",
              "  <thead>\n",
              "    <tr style=\"text-align: right;\">\n",
              "      <th></th>\n",
              "      <th>tconst</th>\n",
              "      <th>titleType</th>\n",
              "      <th>primaryTitle</th>\n",
              "      <th>originalTitle</th>\n",
              "      <th>isAdult</th>\n",
              "      <th>startYear</th>\n",
              "      <th>endYear</th>\n",
              "      <th>runtimeMinutes</th>\n",
              "      <th>genres</th>\n",
              "    </tr>\n",
              "  </thead>\n",
              "  <tbody>\n",
              "    <tr>\n",
              "      <th>0</th>\n",
              "      <td>tt0221078</td>\n",
              "      <td>short</td>\n",
              "      <td>Circle Dance, Ute Indians</td>\n",
              "      <td>Circle Dance, Ute Indians</td>\n",
              "      <td>0</td>\n",
              "      <td>1898</td>\n",
              "      <td>\\N</td>\n",
              "      <td>\\N</td>\n",
              "      <td>Documentary,Short</td>\n",
              "    </tr>\n",
              "    <tr>\n",
              "      <th>1</th>\n",
              "      <td>tt8862466</td>\n",
              "      <td>tvEpisode</td>\n",
              "      <td>¡El #TeamOsos va con todo al \"Reality del amor\"!</td>\n",
              "      <td>¡El #TeamOsos va con todo al \"Reality del amor\"!</td>\n",
              "      <td>0</td>\n",
              "      <td>2018</td>\n",
              "      <td>\\N</td>\n",
              "      <td>\\N</td>\n",
              "      <td>Comedy,Drama</td>\n",
              "    </tr>\n",
              "    <tr>\n",
              "      <th>2</th>\n",
              "      <td>tt7157720</td>\n",
              "      <td>tvEpisode</td>\n",
              "      <td>Episode #3.41</td>\n",
              "      <td>Episode #3.41</td>\n",
              "      <td>0</td>\n",
              "      <td>2016</td>\n",
              "      <td>\\N</td>\n",
              "      <td>29</td>\n",
              "      <td>Comedy,Game-Show</td>\n",
              "    </tr>\n",
              "    <tr>\n",
              "      <th>3</th>\n",
              "      <td>tt2974998</td>\n",
              "      <td>tvEpisode</td>\n",
              "      <td>Episode dated 16 May 1987</td>\n",
              "      <td>Episode dated 16 May 1987</td>\n",
              "      <td>0</td>\n",
              "      <td>1987</td>\n",
              "      <td>\\N</td>\n",
              "      <td>\\N</td>\n",
              "      <td>News</td>\n",
              "    </tr>\n",
              "    <tr>\n",
              "      <th>4</th>\n",
              "      <td>tt2903620</td>\n",
              "      <td>tvEpisode</td>\n",
              "      <td>Frances Bavier: Aunt Bee Retires</td>\n",
              "      <td>Frances Bavier: Aunt Bee Retires</td>\n",
              "      <td>0</td>\n",
              "      <td>1973</td>\n",
              "      <td>\\N</td>\n",
              "      <td>\\N</td>\n",
              "      <td>Documentary</td>\n",
              "    </tr>\n",
              "  </tbody>\n",
              "</table>\n",
              "</div>\n",
              "      <button class=\"colab-df-convert\" onclick=\"convertToInteractive('df-aaf6832e-ffbd-4ecd-b3f1-d422760d753d')\"\n",
              "              title=\"Convert this dataframe to an interactive table.\"\n",
              "              style=\"display:none;\">\n",
              "        \n",
              "  <svg xmlns=\"http://www.w3.org/2000/svg\" height=\"24px\"viewBox=\"0 0 24 24\"\n",
              "       width=\"24px\">\n",
              "    <path d=\"M0 0h24v24H0V0z\" fill=\"none\"/>\n",
              "    <path d=\"M18.56 5.44l.94 2.06.94-2.06 2.06-.94-2.06-.94-.94-2.06-.94 2.06-2.06.94zm-11 1L8.5 8.5l.94-2.06 2.06-.94-2.06-.94L8.5 2.5l-.94 2.06-2.06.94zm10 10l.94 2.06.94-2.06 2.06-.94-2.06-.94-.94-2.06-.94 2.06-2.06.94z\"/><path d=\"M17.41 7.96l-1.37-1.37c-.4-.4-.92-.59-1.43-.59-.52 0-1.04.2-1.43.59L10.3 9.45l-7.72 7.72c-.78.78-.78 2.05 0 2.83L4 21.41c.39.39.9.59 1.41.59.51 0 1.02-.2 1.41-.59l7.78-7.78 2.81-2.81c.8-.78.8-2.07 0-2.86zM5.41 20L4 18.59l7.72-7.72 1.47 1.35L5.41 20z\"/>\n",
              "  </svg>\n",
              "      </button>\n",
              "      \n",
              "  <style>\n",
              "    .colab-df-container {\n",
              "      display:flex;\n",
              "      flex-wrap:wrap;\n",
              "      gap: 12px;\n",
              "    }\n",
              "\n",
              "    .colab-df-convert {\n",
              "      background-color: #E8F0FE;\n",
              "      border: none;\n",
              "      border-radius: 50%;\n",
              "      cursor: pointer;\n",
              "      display: none;\n",
              "      fill: #1967D2;\n",
              "      height: 32px;\n",
              "      padding: 0 0 0 0;\n",
              "      width: 32px;\n",
              "    }\n",
              "\n",
              "    .colab-df-convert:hover {\n",
              "      background-color: #E2EBFA;\n",
              "      box-shadow: 0px 1px 2px rgba(60, 64, 67, 0.3), 0px 1px 3px 1px rgba(60, 64, 67, 0.15);\n",
              "      fill: #174EA6;\n",
              "    }\n",
              "\n",
              "    [theme=dark] .colab-df-convert {\n",
              "      background-color: #3B4455;\n",
              "      fill: #D2E3FC;\n",
              "    }\n",
              "\n",
              "    [theme=dark] .colab-df-convert:hover {\n",
              "      background-color: #434B5C;\n",
              "      box-shadow: 0px 1px 3px 1px rgba(0, 0, 0, 0.15);\n",
              "      filter: drop-shadow(0px 1px 2px rgba(0, 0, 0, 0.3));\n",
              "      fill: #FFFFFF;\n",
              "    }\n",
              "  </style>\n",
              "\n",
              "      <script>\n",
              "        const buttonEl =\n",
              "          document.querySelector('#df-aaf6832e-ffbd-4ecd-b3f1-d422760d753d button.colab-df-convert');\n",
              "        buttonEl.style.display =\n",
              "          google.colab.kernel.accessAllowed ? 'block' : 'none';\n",
              "\n",
              "        async function convertToInteractive(key) {\n",
              "          const element = document.querySelector('#df-aaf6832e-ffbd-4ecd-b3f1-d422760d753d');\n",
              "          const dataTable =\n",
              "            await google.colab.kernel.invokeFunction('convertToInteractive',\n",
              "                                                     [key], {});\n",
              "          if (!dataTable) return;\n",
              "\n",
              "          const docLinkHtml = 'Like what you see? Visit the ' +\n",
              "            '<a target=\"_blank\" href=https://colab.research.google.com/notebooks/data_table.ipynb>data table notebook</a>'\n",
              "            + ' to learn more about interactive tables.';\n",
              "          element.innerHTML = '';\n",
              "          dataTable['output_type'] = 'display_data';\n",
              "          await google.colab.output.renderOutput(dataTable, element);\n",
              "          const docLink = document.createElement('div');\n",
              "          docLink.innerHTML = docLinkHtml;\n",
              "          element.appendChild(docLink);\n",
              "        }\n",
              "      </script>\n",
              "    </div>\n",
              "  </div>\n",
              "  "
            ]
          },
          "metadata": {},
          "execution_count": 3
        }
      ]
    },
    {
      "cell_type": "code",
      "source": [
        "movie_df.info()"
      ],
      "metadata": {
        "colab": {
          "base_uri": "https://localhost:8080/"
        },
        "id": "GnrBi2zDcSPg",
        "outputId": "e23747bb-d288-4baa-9235-7494eda03433"
      },
      "execution_count": 4,
      "outputs": [
        {
          "output_type": "stream",
          "name": "stdout",
          "text": [
            "<class 'pandas.core.frame.DataFrame'>\n",
            "RangeIndex: 9025 entries, 0 to 9024\n",
            "Data columns (total 9 columns):\n",
            " #   Column          Non-Null Count  Dtype \n",
            "---  ------          --------------  ----- \n",
            " 0   tconst          9025 non-null   object\n",
            " 1   titleType       9025 non-null   object\n",
            " 2   primaryTitle    9011 non-null   object\n",
            " 3   originalTitle   9011 non-null   object\n",
            " 4   isAdult         9025 non-null   int64 \n",
            " 5   startYear       9025 non-null   object\n",
            " 6   endYear         9025 non-null   object\n",
            " 7   runtimeMinutes  9025 non-null   object\n",
            " 8   genres          9014 non-null   object\n",
            "dtypes: int64(1), object(8)\n",
            "memory usage: 634.7+ KB\n"
          ]
        }
      ]
    },
    {
      "cell_type": "code",
      "source": [
        "movie_df.isna().sum()"
      ],
      "metadata": {
        "colab": {
          "base_uri": "https://localhost:8080/"
        },
        "id": "fZR6vVzpccR1",
        "outputId": "5caec1e2-4fb5-4a45-db70-954894cf7af7"
      },
      "execution_count": 5,
      "outputs": [
        {
          "output_type": "execute_result",
          "data": {
            "text/plain": [
              "tconst             0\n",
              "titleType          0\n",
              "primaryTitle      14\n",
              "originalTitle     14\n",
              "isAdult            0\n",
              "startYear          0\n",
              "endYear            0\n",
              "runtimeMinutes     0\n",
              "genres            11\n",
              "dtype: int64"
            ]
          },
          "metadata": {},
          "execution_count": 5
        }
      ]
    },
    {
      "cell_type": "markdown",
      "source": [
        "Dari hasil pengecekan nilai NULL yang sudah dilakukan sebelumnya, diketahui bahwa kolom primaryTitle dan originalTitle memiliki banyak data yang bernilai NULL.\n",
        "\n",
        "Hal selanjutnya yang akan kita lakukan adalah melakukan pengecekan terhadap bentuk data dari kolom primaryTitle dan originalTitle yang bernilai NULL, apakah salah satu atau kedua kolom yang dimaksud ada data yang bernilai NULL."
      ],
      "metadata": {
        "id": "AucffteQcwT4"
      }
    },
    {
      "cell_type": "code",
      "source": [
        "print(movie_df.loc[(movie_df['primaryTitle'].isnull()) | \n",
        "                   (movie_df['originalTitle'].isnull())])"
      ],
      "metadata": {
        "colab": {
          "base_uri": "https://localhost:8080/"
        },
        "id": "QV8gs1KbcxKT",
        "outputId": "bc56e43b-4325-49ea-cbbe-211e566fa78c"
      },
      "execution_count": 9,
      "outputs": [
        {
          "output_type": "stream",
          "name": "stdout",
          "text": [
            "          tconst  titleType primaryTitle originalTitle  isAdult startYear  \\\n",
            "9000  tt10790040  tvEpisode          NaN           NaN        0      2019   \n",
            "9001  tt10891902  tvEpisode          NaN           NaN        0      2020   \n",
            "9002  tt11737860  tvEpisode          NaN           NaN        0      2020   \n",
            "9003  tt11737862  tvEpisode          NaN           NaN        0      2020   \n",
            "9004  tt11737866  tvEpisode          NaN           NaN        0      2020   \n",
            "9005  tt11737872  tvEpisode          NaN           NaN        0      2020   \n",
            "9006  tt11737874  tvEpisode          NaN           NaN        0      2020   \n",
            "9007   tt1971246  tvEpisode          NaN           NaN        0      2011   \n",
            "9008   tt2067043  tvEpisode          NaN           NaN        0      1965   \n",
            "9009   tt4404732  tvEpisode          NaN           NaN        0      2015   \n",
            "9010   tt5773048  tvEpisode          NaN           NaN        0      2015   \n",
            "9011   tt8473688  tvEpisode          NaN           NaN        0      1987   \n",
            "9012   tt8541336  tvEpisode          NaN           NaN        0      2018   \n",
            "9013   tt9824302  tvEpisode          NaN           NaN        0      2016   \n",
            "\n",
            "     endYear runtimeMinutes                genres  \n",
            "9000      \\N             \\N                    \\N  \n",
            "9001      \\N             \\N                 Crime  \n",
            "9002      \\N             \\N  Comedy,Drama,Romance  \n",
            "9003      \\N             \\N  Comedy,Drama,Romance  \n",
            "9004      \\N             \\N  Comedy,Drama,Romance  \n",
            "9005      \\N             \\N                    \\N  \n",
            "9006      \\N             \\N  Comedy,Drama,Romance  \n",
            "9007      \\N             \\N             Biography  \n",
            "9008      \\N             \\N                 Music  \n",
            "9009      \\N             \\N                Comedy  \n",
            "9010      \\N             \\N             Talk-Show  \n",
            "9011      \\N             \\N                 Drama  \n",
            "9012      \\N             \\N    Reality-TV,Romance  \n",
            "9013      \\N             \\N           Documentary  \n"
          ]
        }
      ]
    },
    {
      "cell_type": "markdown",
      "source": [
        "Membuang data yang bernilai Null"
      ],
      "metadata": {
        "id": "Ke81EvhGdof1"
      }
    },
    {
      "cell_type": "code",
      "source": [
        "movie_df = movie_df.loc[(movie_df['primaryTitle'].notnull()) & (movie_df['originalTitle'].notnull())]\n",
        "\n",
        "print(len(movie_df))"
      ],
      "metadata": {
        "colab": {
          "base_uri": "https://localhost:8080/"
        },
        "id": "Rm39Y8XjeUmC",
        "outputId": "e1473bb8-fc2f-45b2-eb1c-788723e4fd69"
      },
      "execution_count": 11,
      "outputs": [
        {
          "output_type": "stream",
          "name": "stdout",
          "text": [
            "9011\n"
          ]
        }
      ]
    },
    {
      "cell_type": "code",
      "source": [
        "#cek kolom genre yg bernilai null\n",
        "print(movie_df.loc[movie_df['genres'].isnull()])"
      ],
      "metadata": {
        "colab": {
          "base_uri": "https://localhost:8080/"
        },
        "id": "r64Ie3V0feWV",
        "outputId": "7fd2fc08-e939-46ad-8cd6-f959884655f7"
      },
      "execution_count": 12,
      "outputs": [
        {
          "output_type": "stream",
          "name": "stdout",
          "text": [
            "          tconst  titleType  \\\n",
            "9014  tt10233364  tvEpisode   \n",
            "9015  tt10925142  tvEpisode   \n",
            "9016  tt10970874  tvEpisode   \n",
            "9017  tt11670006  tvEpisode   \n",
            "9018  tt11868642  tvEpisode   \n",
            "9019   tt2347742  tvEpisode   \n",
            "9020   tt3984412  tvEpisode   \n",
            "9021   tt8740950  tvEpisode   \n",
            "9022   tt9822816  tvEpisode   \n",
            "9023   tt9900062  tvEpisode   \n",
            "9024   tt9909210  tvEpisode   \n",
            "\n",
            "                                           primaryTitle originalTitle  \\\n",
            "9014  Rolling in the Deep Dish\\tRolling in the Deep ...             0   \n",
            "9015  The IMDb Show on Location: Star Wars Galaxy's ...             0   \n",
            "9016  Die Bauhaus-Stadt Tel Aviv - Vorbild für die M...             0   \n",
            "9017  ...ein angenehmer Unbequemer...\\t...ein angene...             0   \n",
            "9018  GGN Heavyweight Championship Lungs With Mike T...             0   \n",
            "9019  No sufras por la alergia esta primavera\\tNo su...             0   \n",
            "9020  I'm Not Going to Come Last, I'm Just Going to ...             0   \n",
            "9021  Weight Loss Resolution Restart - Ins & Outs of...             0   \n",
            "9022  Zwischen Vertuschung und Aufklärung - Missbrau...             0   \n",
            "9023  The Direction of Yuu's Love: Hings Aren't Goin...             0   \n",
            "9024  Politik und/oder Moral - Wie weit geht das Ver...             0   \n",
            "\n",
            "      isAdult startYear endYear          runtimeMinutes genres  \n",
            "9014     2019        \\N      \\N              Reality-TV    NaN  \n",
            "9015     2019        \\N      \\N               Talk-Show    NaN  \n",
            "9016     2019        \\N      \\N                      \\N    NaN  \n",
            "9017     1981        \\N      \\N             Documentary    NaN  \n",
            "9018     2020        \\N      \\N               Talk-Show    NaN  \n",
            "9019     2004        \\N      \\N                      \\N    NaN  \n",
            "9020     2014        \\N      \\N              Reality-TV    NaN  \n",
            "9021     2015        \\N      \\N              Reality-TV    NaN  \n",
            "9022     2019        \\N      \\N                      \\N    NaN  \n",
            "9023     1994        \\N      \\N  Animation,Comedy,Drama    NaN  \n",
            "9024     2005        \\N      \\N                      \\N    NaN  \n"
          ]
        }
      ]
    },
    {
      "cell_type": "markdown",
      "source": [
        "Jika kita perhatikan pada kolom 'startYear' , 'endYear', dan 'runtimeMinutes', terdapat data dengan nilai '\\\\N'\n",
        "\n",
        "'\\\\N' berarti NULL.\n",
        "\n",
        "Hal selanjutnya yang akan kita lakukan adalah mengubah nilai dari \\\\\\N tersebur menjadi np.nan dan melakukan casting kolom startYear, endYear, dan runtimeMinutes menjadi float64."
      ],
      "metadata": {
        "id": "l7y2-rqjgjUL"
      }
    },
    {
      "cell_type": "code",
      "source": [
        "movie_df = movie_df.loc[(movie_df['primaryTitle'].notnull()) & (movie_df['originalTitle'].notnull())]\n",
        "movie_df = movie_df.loc[movie_df['genres'].notnull()]\n",
        "\n",
        "#mengubah nilai '\\\\N' pada startYear menjadi np.nan dan cast kolomnya menjadi float64\n",
        "movie_df['startYear'] = movie_df['startYear'].replace('\\\\N', np.nan)\n",
        "movie_df['startYear'] = movie_df['startYear'].astype('float64')\n",
        "print(movie_df['startYear'].unique()[:5])\n",
        "#mengubah nilai '\\\\N' pada endYear menjadi np.nan dan cast kolomnya menjadi float64\n",
        "movie_df['endYear'] = movie_df['endYear'].replace('\\\\N', np.nan)\n",
        "movie_df['endYear'] = movie_df['endYear'].astype('float64')\n",
        "print(movie_df['endYear'].unique()[:5])\n",
        "#mengubah nilai '\\\\N' pada runtimeMinutes menjadi np.nan dan cast kolomnya menjadi float64\n",
        "movie_df['runtimeMinutes'] = movie_df['runtimeMinutes'].replace('\\\\N', np.nan)\n",
        "movie_df['runtimeMinutes'] = movie_df['runtimeMinutes'].astype('float64')\n",
        "print(movie_df['runtimeMinutes'].unique()[:5])"
      ],
      "metadata": {
        "colab": {
          "base_uri": "https://localhost:8080/"
        },
        "id": "MBZk2uk8gj_j",
        "outputId": "2d2cc87f-b856-47dd-a478-029bcdd0d03e"
      },
      "execution_count": 15,
      "outputs": [
        {
          "output_type": "stream",
          "name": "stdout",
          "text": [
            "[1898. 2018. 2016. 1987. 1973.]\n",
            "[  nan 2005. 1955. 2006. 1999.]\n",
            "[nan 29.  7. 23. 85.]\n"
          ]
        }
      ]
    },
    {
      "cell_type": "markdown",
      "source": [
        "fungsi transform_to_list utk mengubah nilai genre menjadi list"
      ],
      "metadata": {
        "id": "BVsMAvL3jGQ4"
      }
    },
    {
      "cell_type": "code",
      "source": [
        "def transform_to_list(x):\n",
        "    if ',' in x: \n",
        "    #ubah menjadi list apabila ada data pada kolom genre\n",
        "        return x.split(',')\n",
        "    else: \n",
        "    #jika tidak ada data, ubah menjadi list kosong\n",
        "        return []\n",
        "movie_df['genres'] = movie_df['genres'].apply(lambda x: transform_to_list(x))\n",
        "movie_df"
      ],
      "metadata": {
        "colab": {
          "base_uri": "https://localhost:8080/",
          "height": 468
        },
        "id": "AlNVaqxyjbin",
        "outputId": "61288394-5982-4cfb-9218-e386cd061d3e"
      },
      "execution_count": 18,
      "outputs": [
        {
          "output_type": "execute_result",
          "data": {
            "text/plain": [
              "          tconst  titleType                                      primaryTitle  \\\n",
              "0      tt0221078      short                         Circle Dance, Ute Indians   \n",
              "1      tt8862466  tvEpisode  ¡El #TeamOsos va con todo al \"Reality del amor\"!   \n",
              "2      tt7157720  tvEpisode                                     Episode #3.41   \n",
              "3      tt2974998  tvEpisode                         Episode dated 16 May 1987   \n",
              "4      tt2903620  tvEpisode                  Frances Bavier: Aunt Bee Retires   \n",
              "...          ...        ...                                               ...   \n",
              "8995   tt1357878  tvEpisode                                            Poison   \n",
              "8996   tt2252371  tvEpisode                    Episode dated 20 February 2012   \n",
              "8997   tt6934076  tvEpisode                                     Episode #1.59   \n",
              "8998  tt11988828  tvEpisode                                    Episode #1.263   \n",
              "8999  tt11285464      short                                        Hoodie XXX   \n",
              "\n",
              "                                         originalTitle  isAdult  startYear  \\\n",
              "0                            Circle Dance, Ute Indians        0     1898.0   \n",
              "1     ¡El #TeamOsos va con todo al \"Reality del amor\"!        0     2018.0   \n",
              "2                                        Episode #3.41        0     2016.0   \n",
              "3                            Episode dated 16 May 1987        0     1987.0   \n",
              "4                     Frances Bavier: Aunt Bee Retires        0     1973.0   \n",
              "...                                                ...      ...        ...   \n",
              "8995                                            Poison        0     2004.0   \n",
              "8996                    Episode dated 20 February 2012        0     2012.0   \n",
              "8997                                     Episode #1.59        0     2012.0   \n",
              "8998                                    Episode #1.263        0        NaN   \n",
              "8999                                        Hoodie XXX        0     2019.0   \n",
              "\n",
              "      endYear  runtimeMinutes genres  \n",
              "0         NaN             NaN     []  \n",
              "1         NaN             NaN     []  \n",
              "2         NaN            29.0     []  \n",
              "3         NaN             NaN     []  \n",
              "4         NaN             NaN     []  \n",
              "...       ...             ...    ...  \n",
              "8995      NaN             NaN     []  \n",
              "8996      NaN             NaN     []  \n",
              "8997      NaN             NaN     []  \n",
              "8998      NaN             NaN     []  \n",
              "8999      NaN             NaN     []  \n",
              "\n",
              "[9000 rows x 9 columns]"
            ],
            "text/html": [
              "\n",
              "  <div id=\"df-0531fc3a-d6f9-4b76-9893-625c12055152\">\n",
              "    <div class=\"colab-df-container\">\n",
              "      <div>\n",
              "<style scoped>\n",
              "    .dataframe tbody tr th:only-of-type {\n",
              "        vertical-align: middle;\n",
              "    }\n",
              "\n",
              "    .dataframe tbody tr th {\n",
              "        vertical-align: top;\n",
              "    }\n",
              "\n",
              "    .dataframe thead th {\n",
              "        text-align: right;\n",
              "    }\n",
              "</style>\n",
              "<table border=\"1\" class=\"dataframe\">\n",
              "  <thead>\n",
              "    <tr style=\"text-align: right;\">\n",
              "      <th></th>\n",
              "      <th>tconst</th>\n",
              "      <th>titleType</th>\n",
              "      <th>primaryTitle</th>\n",
              "      <th>originalTitle</th>\n",
              "      <th>isAdult</th>\n",
              "      <th>startYear</th>\n",
              "      <th>endYear</th>\n",
              "      <th>runtimeMinutes</th>\n",
              "      <th>genres</th>\n",
              "    </tr>\n",
              "  </thead>\n",
              "  <tbody>\n",
              "    <tr>\n",
              "      <th>0</th>\n",
              "      <td>tt0221078</td>\n",
              "      <td>short</td>\n",
              "      <td>Circle Dance, Ute Indians</td>\n",
              "      <td>Circle Dance, Ute Indians</td>\n",
              "      <td>0</td>\n",
              "      <td>1898.0</td>\n",
              "      <td>NaN</td>\n",
              "      <td>NaN</td>\n",
              "      <td>[]</td>\n",
              "    </tr>\n",
              "    <tr>\n",
              "      <th>1</th>\n",
              "      <td>tt8862466</td>\n",
              "      <td>tvEpisode</td>\n",
              "      <td>¡El #TeamOsos va con todo al \"Reality del amor\"!</td>\n",
              "      <td>¡El #TeamOsos va con todo al \"Reality del amor\"!</td>\n",
              "      <td>0</td>\n",
              "      <td>2018.0</td>\n",
              "      <td>NaN</td>\n",
              "      <td>NaN</td>\n",
              "      <td>[]</td>\n",
              "    </tr>\n",
              "    <tr>\n",
              "      <th>2</th>\n",
              "      <td>tt7157720</td>\n",
              "      <td>tvEpisode</td>\n",
              "      <td>Episode #3.41</td>\n",
              "      <td>Episode #3.41</td>\n",
              "      <td>0</td>\n",
              "      <td>2016.0</td>\n",
              "      <td>NaN</td>\n",
              "      <td>29.0</td>\n",
              "      <td>[]</td>\n",
              "    </tr>\n",
              "    <tr>\n",
              "      <th>3</th>\n",
              "      <td>tt2974998</td>\n",
              "      <td>tvEpisode</td>\n",
              "      <td>Episode dated 16 May 1987</td>\n",
              "      <td>Episode dated 16 May 1987</td>\n",
              "      <td>0</td>\n",
              "      <td>1987.0</td>\n",
              "      <td>NaN</td>\n",
              "      <td>NaN</td>\n",
              "      <td>[]</td>\n",
              "    </tr>\n",
              "    <tr>\n",
              "      <th>4</th>\n",
              "      <td>tt2903620</td>\n",
              "      <td>tvEpisode</td>\n",
              "      <td>Frances Bavier: Aunt Bee Retires</td>\n",
              "      <td>Frances Bavier: Aunt Bee Retires</td>\n",
              "      <td>0</td>\n",
              "      <td>1973.0</td>\n",
              "      <td>NaN</td>\n",
              "      <td>NaN</td>\n",
              "      <td>[]</td>\n",
              "    </tr>\n",
              "    <tr>\n",
              "      <th>...</th>\n",
              "      <td>...</td>\n",
              "      <td>...</td>\n",
              "      <td>...</td>\n",
              "      <td>...</td>\n",
              "      <td>...</td>\n",
              "      <td>...</td>\n",
              "      <td>...</td>\n",
              "      <td>...</td>\n",
              "      <td>...</td>\n",
              "    </tr>\n",
              "    <tr>\n",
              "      <th>8995</th>\n",
              "      <td>tt1357878</td>\n",
              "      <td>tvEpisode</td>\n",
              "      <td>Poison</td>\n",
              "      <td>Poison</td>\n",
              "      <td>0</td>\n",
              "      <td>2004.0</td>\n",
              "      <td>NaN</td>\n",
              "      <td>NaN</td>\n",
              "      <td>[]</td>\n",
              "    </tr>\n",
              "    <tr>\n",
              "      <th>8996</th>\n",
              "      <td>tt2252371</td>\n",
              "      <td>tvEpisode</td>\n",
              "      <td>Episode dated 20 February 2012</td>\n",
              "      <td>Episode dated 20 February 2012</td>\n",
              "      <td>0</td>\n",
              "      <td>2012.0</td>\n",
              "      <td>NaN</td>\n",
              "      <td>NaN</td>\n",
              "      <td>[]</td>\n",
              "    </tr>\n",
              "    <tr>\n",
              "      <th>8997</th>\n",
              "      <td>tt6934076</td>\n",
              "      <td>tvEpisode</td>\n",
              "      <td>Episode #1.59</td>\n",
              "      <td>Episode #1.59</td>\n",
              "      <td>0</td>\n",
              "      <td>2012.0</td>\n",
              "      <td>NaN</td>\n",
              "      <td>NaN</td>\n",
              "      <td>[]</td>\n",
              "    </tr>\n",
              "    <tr>\n",
              "      <th>8998</th>\n",
              "      <td>tt11988828</td>\n",
              "      <td>tvEpisode</td>\n",
              "      <td>Episode #1.263</td>\n",
              "      <td>Episode #1.263</td>\n",
              "      <td>0</td>\n",
              "      <td>NaN</td>\n",
              "      <td>NaN</td>\n",
              "      <td>NaN</td>\n",
              "      <td>[]</td>\n",
              "    </tr>\n",
              "    <tr>\n",
              "      <th>8999</th>\n",
              "      <td>tt11285464</td>\n",
              "      <td>short</td>\n",
              "      <td>Hoodie XXX</td>\n",
              "      <td>Hoodie XXX</td>\n",
              "      <td>0</td>\n",
              "      <td>2019.0</td>\n",
              "      <td>NaN</td>\n",
              "      <td>NaN</td>\n",
              "      <td>[]</td>\n",
              "    </tr>\n",
              "  </tbody>\n",
              "</table>\n",
              "<p>9000 rows × 9 columns</p>\n",
              "</div>\n",
              "      <button class=\"colab-df-convert\" onclick=\"convertToInteractive('df-0531fc3a-d6f9-4b76-9893-625c12055152')\"\n",
              "              title=\"Convert this dataframe to an interactive table.\"\n",
              "              style=\"display:none;\">\n",
              "        \n",
              "  <svg xmlns=\"http://www.w3.org/2000/svg\" height=\"24px\"viewBox=\"0 0 24 24\"\n",
              "       width=\"24px\">\n",
              "    <path d=\"M0 0h24v24H0V0z\" fill=\"none\"/>\n",
              "    <path d=\"M18.56 5.44l.94 2.06.94-2.06 2.06-.94-2.06-.94-.94-2.06-.94 2.06-2.06.94zm-11 1L8.5 8.5l.94-2.06 2.06-.94-2.06-.94L8.5 2.5l-.94 2.06-2.06.94zm10 10l.94 2.06.94-2.06 2.06-.94-2.06-.94-.94-2.06-.94 2.06-2.06.94z\"/><path d=\"M17.41 7.96l-1.37-1.37c-.4-.4-.92-.59-1.43-.59-.52 0-1.04.2-1.43.59L10.3 9.45l-7.72 7.72c-.78.78-.78 2.05 0 2.83L4 21.41c.39.39.9.59 1.41.59.51 0 1.02-.2 1.41-.59l7.78-7.78 2.81-2.81c.8-.78.8-2.07 0-2.86zM5.41 20L4 18.59l7.72-7.72 1.47 1.35L5.41 20z\"/>\n",
              "  </svg>\n",
              "      </button>\n",
              "      \n",
              "  <style>\n",
              "    .colab-df-container {\n",
              "      display:flex;\n",
              "      flex-wrap:wrap;\n",
              "      gap: 12px;\n",
              "    }\n",
              "\n",
              "    .colab-df-convert {\n",
              "      background-color: #E8F0FE;\n",
              "      border: none;\n",
              "      border-radius: 50%;\n",
              "      cursor: pointer;\n",
              "      display: none;\n",
              "      fill: #1967D2;\n",
              "      height: 32px;\n",
              "      padding: 0 0 0 0;\n",
              "      width: 32px;\n",
              "    }\n",
              "\n",
              "    .colab-df-convert:hover {\n",
              "      background-color: #E2EBFA;\n",
              "      box-shadow: 0px 1px 2px rgba(60, 64, 67, 0.3), 0px 1px 3px 1px rgba(60, 64, 67, 0.15);\n",
              "      fill: #174EA6;\n",
              "    }\n",
              "\n",
              "    [theme=dark] .colab-df-convert {\n",
              "      background-color: #3B4455;\n",
              "      fill: #D2E3FC;\n",
              "    }\n",
              "\n",
              "    [theme=dark] .colab-df-convert:hover {\n",
              "      background-color: #434B5C;\n",
              "      box-shadow: 0px 1px 3px 1px rgba(0, 0, 0, 0.15);\n",
              "      filter: drop-shadow(0px 1px 2px rgba(0, 0, 0, 0.3));\n",
              "      fill: #FFFFFF;\n",
              "    }\n",
              "  </style>\n",
              "\n",
              "      <script>\n",
              "        const buttonEl =\n",
              "          document.querySelector('#df-0531fc3a-d6f9-4b76-9893-625c12055152 button.colab-df-convert');\n",
              "        buttonEl.style.display =\n",
              "          google.colab.kernel.accessAllowed ? 'block' : 'none';\n",
              "\n",
              "        async function convertToInteractive(key) {\n",
              "          const element = document.querySelector('#df-0531fc3a-d6f9-4b76-9893-625c12055152');\n",
              "          const dataTable =\n",
              "            await google.colab.kernel.invokeFunction('convertToInteractive',\n",
              "                                                     [key], {});\n",
              "          if (!dataTable) return;\n",
              "\n",
              "          const docLinkHtml = 'Like what you see? Visit the ' +\n",
              "            '<a target=\"_blank\" href=https://colab.research.google.com/notebooks/data_table.ipynb>data table notebook</a>'\n",
              "            + ' to learn more about interactive tables.';\n",
              "          element.innerHTML = '';\n",
              "          dataTable['output_type'] = 'display_data';\n",
              "          await google.colab.output.renderOutput(dataTable, element);\n",
              "          const docLink = document.createElement('div');\n",
              "          docLink.innerHTML = docLinkHtml;\n",
              "          element.appendChild(docLink);\n",
              "        }\n",
              "      </script>\n",
              "    </div>\n",
              "  </div>\n",
              "  "
            ]
          },
          "metadata": {},
          "execution_count": 18
        }
      ]
    },
    {
      "cell_type": "code",
      "source": [
        "rating_df.head()"
      ],
      "metadata": {
        "colab": {
          "base_uri": "https://localhost:8080/",
          "height": 206
        },
        "id": "ZwCWYfsAkooE",
        "outputId": "36b98654-7475-421f-f861-a4977a95ebe9"
      },
      "execution_count": 19,
      "outputs": [
        {
          "output_type": "execute_result",
          "data": {
            "text/plain": [
              "      tconst  averageRating  numVotes\n",
              "0  tt0000001            5.6      1608\n",
              "1  tt0000002            6.0       197\n",
              "2  tt0000003            6.5      1285\n",
              "3  tt0000004            6.1       121\n",
              "4  tt0000005            6.1      2050"
            ],
            "text/html": [
              "\n",
              "  <div id=\"df-533552de-9381-487a-bbc5-4518dcd189ea\">\n",
              "    <div class=\"colab-df-container\">\n",
              "      <div>\n",
              "<style scoped>\n",
              "    .dataframe tbody tr th:only-of-type {\n",
              "        vertical-align: middle;\n",
              "    }\n",
              "\n",
              "    .dataframe tbody tr th {\n",
              "        vertical-align: top;\n",
              "    }\n",
              "\n",
              "    .dataframe thead th {\n",
              "        text-align: right;\n",
              "    }\n",
              "</style>\n",
              "<table border=\"1\" class=\"dataframe\">\n",
              "  <thead>\n",
              "    <tr style=\"text-align: right;\">\n",
              "      <th></th>\n",
              "      <th>tconst</th>\n",
              "      <th>averageRating</th>\n",
              "      <th>numVotes</th>\n",
              "    </tr>\n",
              "  </thead>\n",
              "  <tbody>\n",
              "    <tr>\n",
              "      <th>0</th>\n",
              "      <td>tt0000001</td>\n",
              "      <td>5.6</td>\n",
              "      <td>1608</td>\n",
              "    </tr>\n",
              "    <tr>\n",
              "      <th>1</th>\n",
              "      <td>tt0000002</td>\n",
              "      <td>6.0</td>\n",
              "      <td>197</td>\n",
              "    </tr>\n",
              "    <tr>\n",
              "      <th>2</th>\n",
              "      <td>tt0000003</td>\n",
              "      <td>6.5</td>\n",
              "      <td>1285</td>\n",
              "    </tr>\n",
              "    <tr>\n",
              "      <th>3</th>\n",
              "      <td>tt0000004</td>\n",
              "      <td>6.1</td>\n",
              "      <td>121</td>\n",
              "    </tr>\n",
              "    <tr>\n",
              "      <th>4</th>\n",
              "      <td>tt0000005</td>\n",
              "      <td>6.1</td>\n",
              "      <td>2050</td>\n",
              "    </tr>\n",
              "  </tbody>\n",
              "</table>\n",
              "</div>\n",
              "      <button class=\"colab-df-convert\" onclick=\"convertToInteractive('df-533552de-9381-487a-bbc5-4518dcd189ea')\"\n",
              "              title=\"Convert this dataframe to an interactive table.\"\n",
              "              style=\"display:none;\">\n",
              "        \n",
              "  <svg xmlns=\"http://www.w3.org/2000/svg\" height=\"24px\"viewBox=\"0 0 24 24\"\n",
              "       width=\"24px\">\n",
              "    <path d=\"M0 0h24v24H0V0z\" fill=\"none\"/>\n",
              "    <path d=\"M18.56 5.44l.94 2.06.94-2.06 2.06-.94-2.06-.94-.94-2.06-.94 2.06-2.06.94zm-11 1L8.5 8.5l.94-2.06 2.06-.94-2.06-.94L8.5 2.5l-.94 2.06-2.06.94zm10 10l.94 2.06.94-2.06 2.06-.94-2.06-.94-.94-2.06-.94 2.06-2.06.94z\"/><path d=\"M17.41 7.96l-1.37-1.37c-.4-.4-.92-.59-1.43-.59-.52 0-1.04.2-1.43.59L10.3 9.45l-7.72 7.72c-.78.78-.78 2.05 0 2.83L4 21.41c.39.39.9.59 1.41.59.51 0 1.02-.2 1.41-.59l7.78-7.78 2.81-2.81c.8-.78.8-2.07 0-2.86zM5.41 20L4 18.59l7.72-7.72 1.47 1.35L5.41 20z\"/>\n",
              "  </svg>\n",
              "      </button>\n",
              "      \n",
              "  <style>\n",
              "    .colab-df-container {\n",
              "      display:flex;\n",
              "      flex-wrap:wrap;\n",
              "      gap: 12px;\n",
              "    }\n",
              "\n",
              "    .colab-df-convert {\n",
              "      background-color: #E8F0FE;\n",
              "      border: none;\n",
              "      border-radius: 50%;\n",
              "      cursor: pointer;\n",
              "      display: none;\n",
              "      fill: #1967D2;\n",
              "      height: 32px;\n",
              "      padding: 0 0 0 0;\n",
              "      width: 32px;\n",
              "    }\n",
              "\n",
              "    .colab-df-convert:hover {\n",
              "      background-color: #E2EBFA;\n",
              "      box-shadow: 0px 1px 2px rgba(60, 64, 67, 0.3), 0px 1px 3px 1px rgba(60, 64, 67, 0.15);\n",
              "      fill: #174EA6;\n",
              "    }\n",
              "\n",
              "    [theme=dark] .colab-df-convert {\n",
              "      background-color: #3B4455;\n",
              "      fill: #D2E3FC;\n",
              "    }\n",
              "\n",
              "    [theme=dark] .colab-df-convert:hover {\n",
              "      background-color: #434B5C;\n",
              "      box-shadow: 0px 1px 3px 1px rgba(0, 0, 0, 0.15);\n",
              "      filter: drop-shadow(0px 1px 2px rgba(0, 0, 0, 0.3));\n",
              "      fill: #FFFFFF;\n",
              "    }\n",
              "  </style>\n",
              "\n",
              "      <script>\n",
              "        const buttonEl =\n",
              "          document.querySelector('#df-533552de-9381-487a-bbc5-4518dcd189ea button.colab-df-convert');\n",
              "        buttonEl.style.display =\n",
              "          google.colab.kernel.accessAllowed ? 'block' : 'none';\n",
              "\n",
              "        async function convertToInteractive(key) {\n",
              "          const element = document.querySelector('#df-533552de-9381-487a-bbc5-4518dcd189ea');\n",
              "          const dataTable =\n",
              "            await google.colab.kernel.invokeFunction('convertToInteractive',\n",
              "                                                     [key], {});\n",
              "          if (!dataTable) return;\n",
              "\n",
              "          const docLinkHtml = 'Like what you see? Visit the ' +\n",
              "            '<a target=\"_blank\" href=https://colab.research.google.com/notebooks/data_table.ipynb>data table notebook</a>'\n",
              "            + ' to learn more about interactive tables.';\n",
              "          element.innerHTML = '';\n",
              "          dataTable['output_type'] = 'display_data';\n",
              "          await google.colab.output.renderOutput(dataTable, element);\n",
              "          const docLink = document.createElement('div');\n",
              "          docLink.innerHTML = docLinkHtml;\n",
              "          element.appendChild(docLink);\n",
              "        }\n",
              "      </script>\n",
              "    </div>\n",
              "  </div>\n",
              "  "
            ]
          },
          "metadata": {},
          "execution_count": 19
        }
      ]
    },
    {
      "cell_type": "code",
      "source": [
        "rating_df.info()"
      ],
      "metadata": {
        "colab": {
          "base_uri": "https://localhost:8080/"
        },
        "id": "8OZHSG_rk0Mn",
        "outputId": "c27f8601-94e3-4cd8-8693-439fae68bed9"
      },
      "execution_count": 20,
      "outputs": [
        {
          "output_type": "stream",
          "name": "stdout",
          "text": [
            "<class 'pandas.core.frame.DataFrame'>\n",
            "RangeIndex: 1030009 entries, 0 to 1030008\n",
            "Data columns (total 3 columns):\n",
            " #   Column         Non-Null Count    Dtype  \n",
            "---  ------         --------------    -----  \n",
            " 0   tconst         1030009 non-null  object \n",
            " 1   averageRating  1030009 non-null  float64\n",
            " 2   numVotes       1030009 non-null  int64  \n",
            "dtypes: float64(1), int64(1), object(1)\n",
            "memory usage: 23.6+ MB\n"
          ]
        }
      ]
    },
    {
      "cell_type": "markdown",
      "source": [
        "Inner Join rating_df dan movie_df"
      ],
      "metadata": {
        "id": "z_pI5Jzqk5_S"
      }
    },
    {
      "cell_type": "code",
      "source": [
        "movie_rating_df = pd.merge(movie_df, rating_df, on='tconst', how='inner')\n",
        "\n",
        "movie_rating_df.head()\n",
        "movie_rating_df.info()"
      ],
      "metadata": {
        "colab": {
          "base_uri": "https://localhost:8080/"
        },
        "id": "9C2mFJ8xk9XQ",
        "outputId": "06af4891-be83-4176-a4bf-f7b9735baf10"
      },
      "execution_count": 21,
      "outputs": [
        {
          "output_type": "stream",
          "name": "stdout",
          "text": [
            "<class 'pandas.core.frame.DataFrame'>\n",
            "Int64Index: 1376 entries, 0 to 1375\n",
            "Data columns (total 11 columns):\n",
            " #   Column          Non-Null Count  Dtype  \n",
            "---  ------          --------------  -----  \n",
            " 0   tconst          1376 non-null   object \n",
            " 1   titleType       1376 non-null   object \n",
            " 2   primaryTitle    1376 non-null   object \n",
            " 3   originalTitle   1376 non-null   object \n",
            " 4   isAdult         1376 non-null   int64  \n",
            " 5   startYear       1376 non-null   float64\n",
            " 6   endYear         26 non-null     float64\n",
            " 7   runtimeMinutes  1004 non-null   float64\n",
            " 8   genres          1376 non-null   object \n",
            " 9   averageRating   1376 non-null   float64\n",
            " 10  numVotes        1376 non-null   int64  \n",
            "dtypes: float64(4), int64(2), object(5)\n",
            "memory usage: 129.0+ KB\n"
          ]
        }
      ]
    },
    {
      "cell_type": "markdown",
      "source": [
        "Hal selanjutnya yang akan kita lakukan adalah memperkecil ukuran table dengan menghilangkan semua nilai NULL dari kolom startYear dan runtimeMinutes karena tidak masuk akal jikalau film tersebut tidak diketahui kapan tahun rilis dan durasi nya. "
      ],
      "metadata": {
        "id": "PXPtJnjklzXM"
      }
    },
    {
      "cell_type": "code",
      "source": [
        "movie_rating_df = pd.merge(movie_df, rating_df, on='tconst', how='inner')\n",
        "movie_rating_df = movie_rating_df.dropna(subset=['startYear','runtimeMinutes'])\n",
        "\n",
        "#Untuk memastikan bahwa sudah tidak ada lagi nilai NULL\n",
        "print(movie_rating_df.info())"
      ],
      "metadata": {
        "colab": {
          "base_uri": "https://localhost:8080/"
        },
        "id": "G3G3r1p3lzFB",
        "outputId": "29085e53-75d4-44c1-b78a-580320febc02"
      },
      "execution_count": 22,
      "outputs": [
        {
          "output_type": "stream",
          "name": "stdout",
          "text": [
            "<class 'pandas.core.frame.DataFrame'>\n",
            "Int64Index: 1004 entries, 0 to 1374\n",
            "Data columns (total 11 columns):\n",
            " #   Column          Non-Null Count  Dtype  \n",
            "---  ------          --------------  -----  \n",
            " 0   tconst          1004 non-null   object \n",
            " 1   titleType       1004 non-null   object \n",
            " 2   primaryTitle    1004 non-null   object \n",
            " 3   originalTitle   1004 non-null   object \n",
            " 4   isAdult         1004 non-null   int64  \n",
            " 5   startYear       1004 non-null   float64\n",
            " 6   endYear         17 non-null     float64\n",
            " 7   runtimeMinutes  1004 non-null   float64\n",
            " 8   genres          1004 non-null   object \n",
            " 9   averageRating   1004 non-null   float64\n",
            " 10  numVotes        1004 non-null   int64  \n",
            "dtypes: float64(4), int64(2), object(5)\n",
            "memory usage: 94.1+ KB\n",
            "None\n"
          ]
        }
      ]
    },
    {
      "cell_type": "markdown",
      "source": [
        "DATA SUDAH BERSIH"
      ],
      "metadata": {
        "id": "u0Jqj7EwmLuR"
      }
    },
    {
      "cell_type": "markdown",
      "source": [
        "c= rata2 average rating"
      ],
      "metadata": {
        "id": "NAXfhwP6orSX"
      }
    },
    {
      "cell_type": "code",
      "source": [
        "C = movie_rating_df['averageRating'].mean()\n",
        "C"
      ],
      "metadata": {
        "colab": {
          "base_uri": "https://localhost:8080/"
        },
        "id": "ky95z6pDoqPK",
        "outputId": "a38ea618-9d3e-4056-f309-8b85427d5ff5"
      },
      "execution_count": 23,
      "outputs": [
        {
          "output_type": "execute_result",
          "data": {
            "text/plain": [
              "6.829581673306773"
            ]
          },
          "metadata": {},
          "execution_count": 23
        }
      ]
    },
    {
      "cell_type": "markdown",
      "source": [
        "Mari kita ambil contoh film dengan numVotes di atas 80% populasi, jadi populasi yang akan kita ambil hanya sebesar 20%. "
      ],
      "metadata": {
        "id": "tMi_pP3bpZaO"
      }
    },
    {
      "cell_type": "code",
      "source": [
        "m = movie_rating_df['numVotes'].quantile(0.8)\n",
        "m"
      ],
      "metadata": {
        "colab": {
          "base_uri": "https://localhost:8080/"
        },
        "id": "a3iVKEUkpZ2X",
        "outputId": "2a8360f7-5d49-421b-ad45-f4da9e6d069a"
      },
      "execution_count": 24,
      "outputs": [
        {
          "output_type": "execute_result",
          "data": {
            "text/plain": [
              "229.0"
            ]
          },
          "metadata": {},
          "execution_count": 24
        }
      ]
    },
    {
      "cell_type": "code",
      "source": [
        "movie_rating_df.head()"
      ],
      "metadata": {
        "colab": {
          "base_uri": "https://localhost:8080/",
          "height": 206
        },
        "id": "IVYBdIYHpoZY",
        "outputId": "e4edd3e7-0eb2-4426-83d4-2bc4de0877c4"
      },
      "execution_count": 25,
      "outputs": [
        {
          "output_type": "execute_result",
          "data": {
            "text/plain": [
              "      tconst  titleType          primaryTitle         originalTitle  isAdult  \\\n",
              "0  tt0043745      short             Lion Down             Lion Down        0   \n",
              "1  tt0167491      video     Wicked Covergirls     Wicked Covergirls        1   \n",
              "2  tt6574096  tvEpisode  Shadow Play - Part 2  Shadow Play - Part 2        0   \n",
              "5  tt2262289      movie               The Pin               The Pin        0   \n",
              "6  tt0874027  tvEpisode         Episode #32.9         Episode #32.9        0   \n",
              "\n",
              "   startYear  endYear  runtimeMinutes genres  averageRating  numVotes  \n",
              "0     1951.0      NaN             7.0     []            7.1       459  \n",
              "1     1998.0      NaN            85.0     []            5.7         7  \n",
              "2     2017.0      NaN            22.0     []            8.5       240  \n",
              "5     2013.0      NaN            85.0     []            7.7        27  \n",
              "6     2006.0      NaN            29.0     []            8.0         8  "
            ],
            "text/html": [
              "\n",
              "  <div id=\"df-8a1e9a07-ed0d-48a9-be02-4b06d2d34327\">\n",
              "    <div class=\"colab-df-container\">\n",
              "      <div>\n",
              "<style scoped>\n",
              "    .dataframe tbody tr th:only-of-type {\n",
              "        vertical-align: middle;\n",
              "    }\n",
              "\n",
              "    .dataframe tbody tr th {\n",
              "        vertical-align: top;\n",
              "    }\n",
              "\n",
              "    .dataframe thead th {\n",
              "        text-align: right;\n",
              "    }\n",
              "</style>\n",
              "<table border=\"1\" class=\"dataframe\">\n",
              "  <thead>\n",
              "    <tr style=\"text-align: right;\">\n",
              "      <th></th>\n",
              "      <th>tconst</th>\n",
              "      <th>titleType</th>\n",
              "      <th>primaryTitle</th>\n",
              "      <th>originalTitle</th>\n",
              "      <th>isAdult</th>\n",
              "      <th>startYear</th>\n",
              "      <th>endYear</th>\n",
              "      <th>runtimeMinutes</th>\n",
              "      <th>genres</th>\n",
              "      <th>averageRating</th>\n",
              "      <th>numVotes</th>\n",
              "    </tr>\n",
              "  </thead>\n",
              "  <tbody>\n",
              "    <tr>\n",
              "      <th>0</th>\n",
              "      <td>tt0043745</td>\n",
              "      <td>short</td>\n",
              "      <td>Lion Down</td>\n",
              "      <td>Lion Down</td>\n",
              "      <td>0</td>\n",
              "      <td>1951.0</td>\n",
              "      <td>NaN</td>\n",
              "      <td>7.0</td>\n",
              "      <td>[]</td>\n",
              "      <td>7.1</td>\n",
              "      <td>459</td>\n",
              "    </tr>\n",
              "    <tr>\n",
              "      <th>1</th>\n",
              "      <td>tt0167491</td>\n",
              "      <td>video</td>\n",
              "      <td>Wicked Covergirls</td>\n",
              "      <td>Wicked Covergirls</td>\n",
              "      <td>1</td>\n",
              "      <td>1998.0</td>\n",
              "      <td>NaN</td>\n",
              "      <td>85.0</td>\n",
              "      <td>[]</td>\n",
              "      <td>5.7</td>\n",
              "      <td>7</td>\n",
              "    </tr>\n",
              "    <tr>\n",
              "      <th>2</th>\n",
              "      <td>tt6574096</td>\n",
              "      <td>tvEpisode</td>\n",
              "      <td>Shadow Play - Part 2</td>\n",
              "      <td>Shadow Play - Part 2</td>\n",
              "      <td>0</td>\n",
              "      <td>2017.0</td>\n",
              "      <td>NaN</td>\n",
              "      <td>22.0</td>\n",
              "      <td>[]</td>\n",
              "      <td>8.5</td>\n",
              "      <td>240</td>\n",
              "    </tr>\n",
              "    <tr>\n",
              "      <th>5</th>\n",
              "      <td>tt2262289</td>\n",
              "      <td>movie</td>\n",
              "      <td>The Pin</td>\n",
              "      <td>The Pin</td>\n",
              "      <td>0</td>\n",
              "      <td>2013.0</td>\n",
              "      <td>NaN</td>\n",
              "      <td>85.0</td>\n",
              "      <td>[]</td>\n",
              "      <td>7.7</td>\n",
              "      <td>27</td>\n",
              "    </tr>\n",
              "    <tr>\n",
              "      <th>6</th>\n",
              "      <td>tt0874027</td>\n",
              "      <td>tvEpisode</td>\n",
              "      <td>Episode #32.9</td>\n",
              "      <td>Episode #32.9</td>\n",
              "      <td>0</td>\n",
              "      <td>2006.0</td>\n",
              "      <td>NaN</td>\n",
              "      <td>29.0</td>\n",
              "      <td>[]</td>\n",
              "      <td>8.0</td>\n",
              "      <td>8</td>\n",
              "    </tr>\n",
              "  </tbody>\n",
              "</table>\n",
              "</div>\n",
              "      <button class=\"colab-df-convert\" onclick=\"convertToInteractive('df-8a1e9a07-ed0d-48a9-be02-4b06d2d34327')\"\n",
              "              title=\"Convert this dataframe to an interactive table.\"\n",
              "              style=\"display:none;\">\n",
              "        \n",
              "  <svg xmlns=\"http://www.w3.org/2000/svg\" height=\"24px\"viewBox=\"0 0 24 24\"\n",
              "       width=\"24px\">\n",
              "    <path d=\"M0 0h24v24H0V0z\" fill=\"none\"/>\n",
              "    <path d=\"M18.56 5.44l.94 2.06.94-2.06 2.06-.94-2.06-.94-.94-2.06-.94 2.06-2.06.94zm-11 1L8.5 8.5l.94-2.06 2.06-.94-2.06-.94L8.5 2.5l-.94 2.06-2.06.94zm10 10l.94 2.06.94-2.06 2.06-.94-2.06-.94-.94-2.06-.94 2.06-2.06.94z\"/><path d=\"M17.41 7.96l-1.37-1.37c-.4-.4-.92-.59-1.43-.59-.52 0-1.04.2-1.43.59L10.3 9.45l-7.72 7.72c-.78.78-.78 2.05 0 2.83L4 21.41c.39.39.9.59 1.41.59.51 0 1.02-.2 1.41-.59l7.78-7.78 2.81-2.81c.8-.78.8-2.07 0-2.86zM5.41 20L4 18.59l7.72-7.72 1.47 1.35L5.41 20z\"/>\n",
              "  </svg>\n",
              "      </button>\n",
              "      \n",
              "  <style>\n",
              "    .colab-df-container {\n",
              "      display:flex;\n",
              "      flex-wrap:wrap;\n",
              "      gap: 12px;\n",
              "    }\n",
              "\n",
              "    .colab-df-convert {\n",
              "      background-color: #E8F0FE;\n",
              "      border: none;\n",
              "      border-radius: 50%;\n",
              "      cursor: pointer;\n",
              "      display: none;\n",
              "      fill: #1967D2;\n",
              "      height: 32px;\n",
              "      padding: 0 0 0 0;\n",
              "      width: 32px;\n",
              "    }\n",
              "\n",
              "    .colab-df-convert:hover {\n",
              "      background-color: #E2EBFA;\n",
              "      box-shadow: 0px 1px 2px rgba(60, 64, 67, 0.3), 0px 1px 3px 1px rgba(60, 64, 67, 0.15);\n",
              "      fill: #174EA6;\n",
              "    }\n",
              "\n",
              "    [theme=dark] .colab-df-convert {\n",
              "      background-color: #3B4455;\n",
              "      fill: #D2E3FC;\n",
              "    }\n",
              "\n",
              "    [theme=dark] .colab-df-convert:hover {\n",
              "      background-color: #434B5C;\n",
              "      box-shadow: 0px 1px 3px 1px rgba(0, 0, 0, 0.15);\n",
              "      filter: drop-shadow(0px 1px 2px rgba(0, 0, 0, 0.3));\n",
              "      fill: #FFFFFF;\n",
              "    }\n",
              "  </style>\n",
              "\n",
              "      <script>\n",
              "        const buttonEl =\n",
              "          document.querySelector('#df-8a1e9a07-ed0d-48a9-be02-4b06d2d34327 button.colab-df-convert');\n",
              "        buttonEl.style.display =\n",
              "          google.colab.kernel.accessAllowed ? 'block' : 'none';\n",
              "\n",
              "        async function convertToInteractive(key) {\n",
              "          const element = document.querySelector('#df-8a1e9a07-ed0d-48a9-be02-4b06d2d34327');\n",
              "          const dataTable =\n",
              "            await google.colab.kernel.invokeFunction('convertToInteractive',\n",
              "                                                     [key], {});\n",
              "          if (!dataTable) return;\n",
              "\n",
              "          const docLinkHtml = 'Like what you see? Visit the ' +\n",
              "            '<a target=\"_blank\" href=https://colab.research.google.com/notebooks/data_table.ipynb>data table notebook</a>'\n",
              "            + ' to learn more about interactive tables.';\n",
              "          element.innerHTML = '';\n",
              "          dataTable['output_type'] = 'display_data';\n",
              "          await google.colab.output.renderOutput(dataTable, element);\n",
              "          const docLink = document.createElement('div');\n",
              "          docLink.innerHTML = docLinkHtml;\n",
              "          element.appendChild(docLink);\n",
              "        }\n",
              "      </script>\n",
              "    </div>\n",
              "  </div>\n",
              "  "
            ]
          },
          "metadata": {},
          "execution_count": 25
        }
      ]
    },
    {
      "cell_type": "markdown",
      "source": [
        " Bagaimana cara membuat fungsi weighted formula?\n",
        "Selanjutnya kita harus membuat sebuah fungsi dengan menggunakan dataframe sebagai variable.\n",
        "*weighted product = salah satu metode yang digunakan untuk penyelesaian sistem pengambilan keputusan dengan mempertimbangkan kriteria dan bobot"
      ],
      "metadata": {
        "id": "QCXZWz90qAzC"
      }
    },
    {
      "cell_type": "code",
      "source": [
        "def imdb_weighted_rating(df, var=0.8):\n",
        "    v = df['numVotes']\n",
        "    R = df['averageRating']\n",
        "    C = df['averageRating'].mean()\n",
        "    m = df['numVotes'].quantile(var)\n",
        "    df['score'] = (v/(m+v))*R + (m/(m+v))*C #Rumus IMDb \n",
        "    return df['score']\n",
        "    \n",
        "imdb_weighted_rating(movie_rating_df)\n",
        "\n",
        "#melakukan pengecekan dataframe\n",
        "print(movie_rating_df.head())"
      ],
      "metadata": {
        "colab": {
          "base_uri": "https://localhost:8080/"
        },
        "id": "AMWHA7jwqBuF",
        "outputId": "83b204c4-ccc1-4727-a02c-51eaf873a135"
      },
      "execution_count": 33,
      "outputs": [
        {
          "output_type": "stream",
          "name": "stdout",
          "text": [
            "      tconst  titleType          primaryTitle         originalTitle  isAdult  \\\n",
            "0  tt0043745      short             Lion Down             Lion Down        0   \n",
            "1  tt0167491      video     Wicked Covergirls     Wicked Covergirls        1   \n",
            "2  tt6574096  tvEpisode  Shadow Play - Part 2  Shadow Play - Part 2        0   \n",
            "5  tt2262289      movie               The Pin               The Pin        0   \n",
            "6  tt0874027  tvEpisode         Episode #32.9         Episode #32.9        0   \n",
            "\n",
            "   startYear  endYear  runtimeMinutes genres  averageRating  numVotes  \\\n",
            "0     1951.0      NaN             7.0     []            7.1       459   \n",
            "1     1998.0      NaN            85.0     []            5.7         7   \n",
            "2     2017.0      NaN            22.0     []            8.5       240   \n",
            "5     2013.0      NaN            85.0     []            7.7        27   \n",
            "6     2006.0      NaN            29.0     []            8.0         8   \n",
            "\n",
            "      score  \n",
            "0  7.009992  \n",
            "1  6.796077  \n",
            "2  7.684380  \n",
            "5  6.921384  \n",
            "6  6.869089  \n"
          ]
        }
      ]
    },
    {
      "cell_type": "markdown",
      "source": [
        "Bagaimana cara membuat simple recommender system?\n",
        "1. sebelumnya telah mengambil field tambahan 'score'\n",
        "2. filter numVotes yg lebih dari m \n",
        "urutkan score dari tertinggi ke terendah untuk diambil nilai bbrp nilai teratas."
      ],
      "metadata": {
        "id": "W-R0PSu3sZnp"
      }
    },
    {
      "cell_type": "code",
      "source": [
        "def simple_recommender(df, top=100):\n",
        "    df = df.loc[df['numVotes'] >= m]\n",
        "    df = df.sort_values(by='score', ascending=False) #urutkan dari nilai tertinggi ke terendah\n",
        "    \n",
        "    #Ambil data 100 teratas\n",
        "    df = df[:top]\n",
        "    return df\n",
        "    \n",
        "#Ambil data 25 teratas     \n",
        "print(simple_recommender(movie_rating_df, top=25))"
      ],
      "metadata": {
        "colab": {
          "base_uri": "https://localhost:8080/"
        },
        "id": "00mHtkt5tVRz",
        "outputId": "4486a743-3ade-4eaf-b0f7-b18cca05206d"
      },
      "execution_count": 35,
      "outputs": [
        {
          "output_type": "stream",
          "name": "stdout",
          "text": [
            "         tconst  titleType                                   primaryTitle  \\\n",
            "68    tt4110822  tvEpisode                                  S.O.S. Part 2   \n",
            "236   tt2200252      video                    Attack of the Clones Review   \n",
            "1181  tt7697962  tvEpisode            Chapter Seventeen: The Missionaries   \n",
            "326   tt7124590  tvEpisode            Chapter Thirty-Four: Judgment Night   \n",
            "1045  tt0533506  tvEpisode                                       The Prom   \n",
            "71    tt8399426  tvEpisode                                        Savages   \n",
            "1234  tt2843830  tvEpisode                                          VIII.   \n",
            "1087  tt4295140   tvSeries                                   Chef's Table   \n",
            "1054  tt2503932  tvEpisode                                Trial and Error   \n",
            "448   tt0337566      video                       AC/DC: Live at Donington   \n",
            "624   tt0620159  tvEpisode                                     Strike Out   \n",
            "1281  tt3166390  tvEpisode                         Looking for a Plus-One   \n",
            "314   tt0954759  tvEpisode                                   Ben Franklin   \n",
            "189   tt5661506      video            Florence + the Machine: The Odyssey   \n",
            "151   tt3954426  tvEpisode                                Bleeding Kansas   \n",
            "1344  tt6644294  tvEpisode                 The Hostile Hospital: Part Two   \n",
            "1242  tt3677742  tvSpecial  Saturday Night Live: 40th Anniversary Special   \n",
            "1217  tt3642464  tvEpisode                                    Giant Woman   \n",
            "544   tt0734655  tvEpisode                              The Little People   \n",
            "49    tt9119838  tvEpisode                      Parisian Legend Has It...   \n",
            "357   tt4084774  tvEpisode                           Trial and Punishment   \n",
            "1111  tt4174072  tvEpisode                     Immortal Emerges from Cave   \n",
            "790   tt4279086  tvEpisode                       And Santa's Midnight Run   \n",
            "972   tt0048028      movie                                   East of Eden   \n",
            "819   tt0032156      movie            The Story of the Last Chrysanthemum   \n",
            "\n",
            "                                      originalTitle  isAdult  startYear  \\\n",
            "68                                    S.O.S. Part 2        0     2015.0   \n",
            "236                     Attack of the Clones Review        0     2010.0   \n",
            "1181            Chapter Seventeen: The Missionaries        0     2019.0   \n",
            "326             Chapter Thirty-Four: Judgment Night        0     2018.0   \n",
            "1045                                       The Prom        0     1999.0   \n",
            "71                                          Savages        0     2018.0   \n",
            "1234                                          VIII.        0     2014.0   \n",
            "1087                                   Chef's Table        0     2015.0   \n",
            "1054                                Trial and Error        0     2013.0   \n",
            "448                        AC/DC: Live at Donington        0     1992.0   \n",
            "624                                      Strike Out        0     2000.0   \n",
            "1281                         Looking for a Plus-One        0     2014.0   \n",
            "314                                    Ben Franklin        0     2007.0   \n",
            "189             Florence + the Machine: The Odyssey        0     2016.0   \n",
            "151                                 Bleeding Kansas        0     2014.0   \n",
            "1344                 The Hostile Hospital: Part Two        0     2018.0   \n",
            "1242  Saturday Night Live: 40th Anniversary Special        0     2015.0   \n",
            "1217                                    Giant Woman        0     2014.0   \n",
            "544                               The Little People        0     1962.0   \n",
            "49                        Parisian Legend Has It...        0     2019.0   \n",
            "357                            Trial and Punishment        0     2015.0   \n",
            "1111                     Immortal Emerges from Cave        0     2017.0   \n",
            "790                        And Santa's Midnight Run        0     2014.0   \n",
            "972                                    East of Eden        0     1955.0   \n",
            "819                              Zangiku monogatari        0     1939.0   \n",
            "\n",
            "      endYear  runtimeMinutes genres  averageRating  numVotes     score  \n",
            "68        NaN            43.0     []            9.4      3820  9.254624  \n",
            "236       NaN            86.0     []            9.3      1411  8.955045  \n",
            "1181      NaN            54.0     []            9.2      1536  8.892450  \n",
            "326       NaN            42.0     []            9.1      1859  8.850993  \n",
            "1045      NaN            60.0     []            8.9      2740  8.740308  \n",
            "71        NaN            58.0     []            9.0      1428  8.700045  \n",
            "1234      NaN            57.0     []            8.9      1753  8.660784  \n",
            "1087      NaN            50.0     []            8.6     12056  8.566998  \n",
            "1054      NaN            43.0     []            8.6      2495  8.451165  \n",
            "448       NaN           120.0     []            8.5      1343  8.256663  \n",
            "624       NaN            30.0     []            8.7       401  8.020118  \n",
            "1281      NaN            28.0     []            8.7       396  8.014679  \n",
            "314       NaN            21.0     []            8.1      2766  8.002863  \n",
            "189       NaN            49.0     []            8.8       330  7.992798  \n",
            "151       NaN            42.0     []            8.6       437  7.991253  \n",
            "1344      NaN            40.0     []            8.3       812  7.976536  \n",
            "1242      NaN           106.0     []            8.1      1931  7.965312  \n",
            "1217      NaN            11.0     []            8.4       566  7.947641  \n",
            "544       NaN            25.0     []            8.1      1559  7.937290  \n",
            "49        NaN            42.0     []            8.9       263  7.936330  \n",
            "357       NaN            56.0     []            8.8       289  7.928908  \n",
            "1111      NaN            53.0     []            8.0      2898  7.914287  \n",
            "790       NaN            42.0     []            8.2       823  7.901687  \n",
            "972       NaN           118.0     []            7.9     38543  7.893678  \n",
            "819       NaN           143.0     []            7.9      2974  7.823470  \n"
          ]
        }
      ]
    },
    {
      "cell_type": "markdown",
      "source": [
        "insight: Dari task yang sudah dilakukan sebelumnya, dapat dilihat sekarang daftar film telah diurutkan dari score tertinggi ke terendah.\n",
        "\n",
        "Film dengan averageRating yang tinggi tidak selalu mendapat posisi yang lebih tinggi dibanding film dengan averageRating lebih rendah, hal ini disebabkan karena kita juga memperhitungkan faktor banyaknya votes\n",
        "\n",
        "\n",
        "Sistem rekomendasi ini masih bisa ditingkatkan dengan menambah filter spesifik tentang titleType, startYear, ataupun filter yang lain\n",
        "\n",
        "To do: membuat function untuk melakukan filter berdasarkan isAdult, startYear, dan genres. "
      ],
      "metadata": {
        "id": "59e850XYuYI-"
      }
    },
    {
      "cell_type": "code",
      "source": [
        "df = movie_rating_df.copy()\n",
        "\n",
        "def user_prefer_recommender(df, ask_adult, ask_start_year, ask_genre, top=100):\n",
        "    #ask_adult = yes/no\n",
        "    if ask_adult.lower() == 'yes':\n",
        "        df = df.loc[df['isAdult'] == 1]\n",
        "    elif ask_adult.lower() == 'no':\n",
        "        df = df.loc[df['isAdult'] == 0]\n",
        "\n",
        "    #ask_start_year = numeric\n",
        "    df = df.loc[df['startYear'] >= int(ask_start_year)]\n",
        "\n",
        "    #ask_genre = 'all' atau yang lain\n",
        "    if ask_genre.lower() == 'all':\n",
        "        df = df\n",
        "    else:\n",
        "        def filter_genre(x):\n",
        "            if ask_genre.lower() in str(x).lower():\n",
        "                return True\n",
        "            else:\n",
        "                return False\n",
        "        df = df.loc[df['genres'].apply(lambda x: filter_genre(x))]\n",
        "\n",
        "    df = df.loc[df['numVotes'] >= m]  #Mengambil film dengan numVotes yang lebih besar atau sama dengan nilai m \n",
        "    df = df.sort_values(by='score', ascending=False)\n",
        "    \n",
        "    #jika kamu hanya ingin mengambil 100 teratas\n",
        "    df = df[:top]\n",
        "    return df\n",
        "print(user_prefer_recommender(df,\n",
        "                       ask_adult = 'no',\n",
        "                        ask_start_year = 2000,\n",
        "                       ask_genre = 'drama'\n",
        "                       ))\n"
      ],
      "metadata": {
        "colab": {
          "base_uri": "https://localhost:8080/"
        },
        "id": "24vmQWo7uGQy",
        "outputId": "349236a5-878c-42a8-bd65-50b5fa02d32b"
      },
      "execution_count": 39,
      "outputs": [
        {
          "output_type": "stream",
          "name": "stdout",
          "text": [
            "Empty DataFrame\n",
            "Columns: [tconst, titleType, primaryTitle, originalTitle, isAdult, startYear, endYear, runtimeMinutes, genres, averageRating, numVotes, score]\n",
            "Index: []\n"
          ]
        }
      ]
    }
  ]
}